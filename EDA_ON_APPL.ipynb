{
  "nbformat": 4,
  "nbformat_minor": 0,
  "metadata": {
    "colab": {
      "name": "EDA ON APPL",
      "provenance": [],
      "collapsed_sections": [],
      "include_colab_link": true
    },
    "kernelspec": {
      "name": "python3",
      "display_name": "Python 3"
    },
    "language_info": {
      "name": "python"
    }
  },
  "cells": [
    {
      "cell_type": "markdown",
      "metadata": {
        "id": "view-in-github",
        "colab_type": "text"
      },
      "source": [
        "<a href=\"https://colab.research.google.com/github/chanikyavardhan/Basic-ML/blob/main/EDA_ON_APPL.ipynb\" target=\"_parent\"><img src=\"https://colab.research.google.com/assets/colab-badge.svg\" alt=\"Open In Colab\"/></a>"
      ]
    },
    {
      "cell_type": "markdown",
      "metadata": {
        "id": "Ds8x2SOhTYVX"
      },
      "source": [
        "#EDA on Forbes highest paid athletes"
      ]
    },
    {
      "cell_type": "code",
      "metadata": {
        "id": "hfxb3kBKTmAi"
      },
      "source": [
        "import pandas as pd\n",
        "import numpy as np\n",
        "import seaborn as sns\n",
        "import matplotlib.pyplot as plt\n",
        "%matplotlib inline"
      ],
      "execution_count": null,
      "outputs": []
    },
    {
      "cell_type": "code",
      "metadata": {
        "id": "i-T6tuK3UTzs"
      },
      "source": [
        "data=pd.read_csv(\"/content/archive (2).zip\")"
      ],
      "execution_count": null,
      "outputs": []
    },
    {
      "cell_type": "markdown",
      "metadata": {
        "id": "mA7Lba-gUYZk"
      },
      "source": [
        "This will read our csv data into data variable"
      ]
    },
    {
      "cell_type": "code",
      "metadata": {
        "colab": {
          "base_uri": "https://localhost:8080/",
          "height": 203
        },
        "id": "EsioNaNBUfFI",
        "outputId": "acdc21ce-bcb7-49dc-ac3a-76393f675465"
      },
      "source": [
        "data.head()"
      ],
      "execution_count": null,
      "outputs": [
        {
          "output_type": "execute_result",
          "data": {
            "text/html": [
              "<div>\n",
              "<style scoped>\n",
              "    .dataframe tbody tr th:only-of-type {\n",
              "        vertical-align: middle;\n",
              "    }\n",
              "\n",
              "    .dataframe tbody tr th {\n",
              "        vertical-align: top;\n",
              "    }\n",
              "\n",
              "    .dataframe thead th {\n",
              "        text-align: right;\n",
              "    }\n",
              "</style>\n",
              "<table border=\"1\" class=\"dataframe\">\n",
              "  <thead>\n",
              "    <tr style=\"text-align: right;\">\n",
              "      <th></th>\n",
              "      <th>S.NO</th>\n",
              "      <th>Name</th>\n",
              "      <th>Nationality</th>\n",
              "      <th>Current Rank</th>\n",
              "      <th>Previous Year Rank</th>\n",
              "      <th>Sport</th>\n",
              "      <th>Year</th>\n",
              "      <th>earnings ($ million)</th>\n",
              "    </tr>\n",
              "  </thead>\n",
              "  <tbody>\n",
              "    <tr>\n",
              "      <th>0</th>\n",
              "      <td>1</td>\n",
              "      <td>Mike Tyson</td>\n",
              "      <td>USA</td>\n",
              "      <td>1</td>\n",
              "      <td>NaN</td>\n",
              "      <td>boxing</td>\n",
              "      <td>1990</td>\n",
              "      <td>28.6</td>\n",
              "    </tr>\n",
              "    <tr>\n",
              "      <th>1</th>\n",
              "      <td>2</td>\n",
              "      <td>Buster Douglas</td>\n",
              "      <td>USA</td>\n",
              "      <td>2</td>\n",
              "      <td>NaN</td>\n",
              "      <td>boxing</td>\n",
              "      <td>1990</td>\n",
              "      <td>26.0</td>\n",
              "    </tr>\n",
              "    <tr>\n",
              "      <th>2</th>\n",
              "      <td>3</td>\n",
              "      <td>Sugar Ray Leonard</td>\n",
              "      <td>USA</td>\n",
              "      <td>3</td>\n",
              "      <td>NaN</td>\n",
              "      <td>boxing</td>\n",
              "      <td>1990</td>\n",
              "      <td>13.0</td>\n",
              "    </tr>\n",
              "    <tr>\n",
              "      <th>3</th>\n",
              "      <td>4</td>\n",
              "      <td>Ayrton Senna</td>\n",
              "      <td>Brazil</td>\n",
              "      <td>4</td>\n",
              "      <td>NaN</td>\n",
              "      <td>auto racing</td>\n",
              "      <td>1990</td>\n",
              "      <td>10.0</td>\n",
              "    </tr>\n",
              "    <tr>\n",
              "      <th>4</th>\n",
              "      <td>5</td>\n",
              "      <td>Alain Prost</td>\n",
              "      <td>France</td>\n",
              "      <td>5</td>\n",
              "      <td>NaN</td>\n",
              "      <td>auto racing</td>\n",
              "      <td>1990</td>\n",
              "      <td>9.0</td>\n",
              "    </tr>\n",
              "  </tbody>\n",
              "</table>\n",
              "</div>"
            ],
            "text/plain": [
              "   S.NO               Name Nationality  ...        Sport  Year earnings ($ million)\n",
              "0     1         Mike Tyson         USA  ...       boxing  1990                 28.6\n",
              "1     2     Buster Douglas         USA  ...       boxing  1990                 26.0\n",
              "2     3  Sugar Ray Leonard         USA  ...       boxing  1990                 13.0\n",
              "3     4       Ayrton Senna      Brazil  ...  auto racing  1990                 10.0\n",
              "4     5        Alain Prost      France  ...  auto racing  1990                  9.0\n",
              "\n",
              "[5 rows x 8 columns]"
            ]
          },
          "metadata": {},
          "execution_count": 34
        }
      ]
    },
    {
      "cell_type": "markdown",
      "metadata": {
        "id": "tHr5gWRuUiSk"
      },
      "source": [
        "The top 5 rows of our data is displayed"
      ]
    },
    {
      "cell_type": "code",
      "metadata": {
        "colab": {
          "base_uri": "https://localhost:8080/",
          "height": 203
        },
        "id": "L0l3ZSQ1Umnj",
        "outputId": "f5dfa64f-4899-4ec7-a1bc-1645c7c97c12"
      },
      "source": [
        "data.tail()"
      ],
      "execution_count": null,
      "outputs": [
        {
          "output_type": "execute_result",
          "data": {
            "text/html": [
              "<div>\n",
              "<style scoped>\n",
              "    .dataframe tbody tr th:only-of-type {\n",
              "        vertical-align: middle;\n",
              "    }\n",
              "\n",
              "    .dataframe tbody tr th {\n",
              "        vertical-align: top;\n",
              "    }\n",
              "\n",
              "    .dataframe thead th {\n",
              "        text-align: right;\n",
              "    }\n",
              "</style>\n",
              "<table border=\"1\" class=\"dataframe\">\n",
              "  <thead>\n",
              "    <tr style=\"text-align: right;\">\n",
              "      <th></th>\n",
              "      <th>S.NO</th>\n",
              "      <th>Name</th>\n",
              "      <th>Nationality</th>\n",
              "      <th>Current Rank</th>\n",
              "      <th>Previous Year Rank</th>\n",
              "      <th>Sport</th>\n",
              "      <th>Year</th>\n",
              "      <th>earnings ($ million)</th>\n",
              "    </tr>\n",
              "  </thead>\n",
              "  <tbody>\n",
              "    <tr>\n",
              "      <th>296</th>\n",
              "      <td>297</td>\n",
              "      <td>Stephen Curry</td>\n",
              "      <td>USA</td>\n",
              "      <td>6</td>\n",
              "      <td>9</td>\n",
              "      <td>Basketball</td>\n",
              "      <td>2020</td>\n",
              "      <td>74.4</td>\n",
              "    </tr>\n",
              "    <tr>\n",
              "      <th>297</th>\n",
              "      <td>298</td>\n",
              "      <td>Kevin Durant</td>\n",
              "      <td>USA</td>\n",
              "      <td>7</td>\n",
              "      <td>10</td>\n",
              "      <td>Basketball</td>\n",
              "      <td>2020</td>\n",
              "      <td>63.9</td>\n",
              "    </tr>\n",
              "    <tr>\n",
              "      <th>298</th>\n",
              "      <td>299</td>\n",
              "      <td>Tiger Woods</td>\n",
              "      <td>USA</td>\n",
              "      <td>8</td>\n",
              "      <td>11</td>\n",
              "      <td>Golf</td>\n",
              "      <td>2020</td>\n",
              "      <td>62.3</td>\n",
              "    </tr>\n",
              "    <tr>\n",
              "      <th>299</th>\n",
              "      <td>300</td>\n",
              "      <td>Kirk Cousins</td>\n",
              "      <td>USA</td>\n",
              "      <td>9</td>\n",
              "      <td>&gt;100</td>\n",
              "      <td>American Football</td>\n",
              "      <td>2020</td>\n",
              "      <td>60.5</td>\n",
              "    </tr>\n",
              "    <tr>\n",
              "      <th>300</th>\n",
              "      <td>301</td>\n",
              "      <td>Carson Wentz</td>\n",
              "      <td>USA</td>\n",
              "      <td>10</td>\n",
              "      <td>&gt;100</td>\n",
              "      <td>American Football</td>\n",
              "      <td>2020</td>\n",
              "      <td>59.1</td>\n",
              "    </tr>\n",
              "  </tbody>\n",
              "</table>\n",
              "</div>"
            ],
            "text/plain": [
              "     S.NO           Name  ...  Year  earnings ($ million)\n",
              "296   297  Stephen Curry  ...  2020                  74.4\n",
              "297   298   Kevin Durant  ...  2020                  63.9\n",
              "298   299    Tiger Woods  ...  2020                  62.3\n",
              "299   300   Kirk Cousins  ...  2020                  60.5\n",
              "300   301   Carson Wentz  ...  2020                  59.1\n",
              "\n",
              "[5 rows x 8 columns]"
            ]
          },
          "metadata": {},
          "execution_count": 35
        }
      ]
    },
    {
      "cell_type": "markdown",
      "metadata": {
        "id": "kUadliQ6Uo7j"
      },
      "source": [
        "The bottom 5 rows are displayed"
      ]
    },
    {
      "cell_type": "code",
      "metadata": {
        "colab": {
          "base_uri": "https://localhost:8080/"
        },
        "id": "XJDu9q0zUs24",
        "outputId": "f7cdc14e-636c-4f73-8b93-68ad861fed21"
      },
      "source": [
        "data.shape"
      ],
      "execution_count": null,
      "outputs": [
        {
          "output_type": "execute_result",
          "data": {
            "text/plain": [
              "(301, 8)"
            ]
          },
          "metadata": {},
          "execution_count": 36
        }
      ]
    },
    {
      "cell_type": "markdown",
      "metadata": {
        "id": "WQ5zDOrTVFXF"
      },
      "source": [
        "so in our data there are 301 rows and 8 columns"
      ]
    },
    {
      "cell_type": "code",
      "metadata": {
        "colab": {
          "base_uri": "https://localhost:8080/"
        },
        "id": "EJR-Te-9U5ct",
        "outputId": "399984b2-47c7-4fdd-ad03-02cb162a4863"
      },
      "source": [
        "data.columns"
      ],
      "execution_count": null,
      "outputs": [
        {
          "output_type": "execute_result",
          "data": {
            "text/plain": [
              "Index(['S.NO', 'Name', 'Nationality', 'Current Rank', 'Previous Year Rank',\n",
              "       'Sport', 'Year', 'earnings ($ million)'],\n",
              "      dtype='object')"
            ]
          },
          "metadata": {},
          "execution_count": 37
        }
      ]
    },
    {
      "cell_type": "markdown",
      "metadata": {
        "id": "fKXQ7_YJVBwD"
      },
      "source": [
        "The All columns in our data are displayed here"
      ]
    },
    {
      "cell_type": "code",
      "metadata": {
        "colab": {
          "base_uri": "https://localhost:8080/"
        },
        "id": "Zg2_J0uyVPyt",
        "outputId": "41b84720-050a-4b9f-fe07-43a3a01a8064"
      },
      "source": [
        "data.info()"
      ],
      "execution_count": null,
      "outputs": [
        {
          "output_type": "stream",
          "name": "stdout",
          "text": [
            "<class 'pandas.core.frame.DataFrame'>\n",
            "RangeIndex: 301 entries, 0 to 300\n",
            "Data columns (total 8 columns):\n",
            " #   Column                Non-Null Count  Dtype  \n",
            "---  ------                --------------  -----  \n",
            " 0   S.NO                  301 non-null    int64  \n",
            " 1   Name                  301 non-null    object \n",
            " 2   Nationality           301 non-null    object \n",
            " 3   Current Rank          301 non-null    int64  \n",
            " 4   Previous Year Rank    277 non-null    object \n",
            " 5   Sport                 301 non-null    object \n",
            " 6   Year                  301 non-null    int64  \n",
            " 7   earnings ($ million)  301 non-null    float64\n",
            "dtypes: float64(1), int64(3), object(4)\n",
            "memory usage: 18.9+ KB\n"
          ]
        }
      ]
    },
    {
      "cell_type": "markdown",
      "metadata": {
        "id": "u0iSumTFVU7S"
      },
      "source": [
        "The information about our dataset is displayed here"
      ]
    },
    {
      "cell_type": "code",
      "metadata": {
        "colab": {
          "base_uri": "https://localhost:8080/",
          "height": 295
        },
        "id": "wZ8d7bdnVbbv",
        "outputId": "ca289be5-52ca-47af-aeb4-c7a64d602154"
      },
      "source": [
        "data.describe()"
      ],
      "execution_count": null,
      "outputs": [
        {
          "output_type": "execute_result",
          "data": {
            "text/html": [
              "<div>\n",
              "<style scoped>\n",
              "    .dataframe tbody tr th:only-of-type {\n",
              "        vertical-align: middle;\n",
              "    }\n",
              "\n",
              "    .dataframe tbody tr th {\n",
              "        vertical-align: top;\n",
              "    }\n",
              "\n",
              "    .dataframe thead th {\n",
              "        text-align: right;\n",
              "    }\n",
              "</style>\n",
              "<table border=\"1\" class=\"dataframe\">\n",
              "  <thead>\n",
              "    <tr style=\"text-align: right;\">\n",
              "      <th></th>\n",
              "      <th>S.NO</th>\n",
              "      <th>Current Rank</th>\n",
              "      <th>Year</th>\n",
              "      <th>earnings ($ million)</th>\n",
              "    </tr>\n",
              "  </thead>\n",
              "  <tbody>\n",
              "    <tr>\n",
              "      <th>count</th>\n",
              "      <td>301.000000</td>\n",
              "      <td>301.000000</td>\n",
              "      <td>301.000000</td>\n",
              "      <td>301.000000</td>\n",
              "    </tr>\n",
              "    <tr>\n",
              "      <th>mean</th>\n",
              "      <td>151.000000</td>\n",
              "      <td>5.448505</td>\n",
              "      <td>2005.122924</td>\n",
              "      <td>45.516279</td>\n",
              "    </tr>\n",
              "    <tr>\n",
              "      <th>std</th>\n",
              "      <td>87.035433</td>\n",
              "      <td>2.850995</td>\n",
              "      <td>9.063563</td>\n",
              "      <td>33.525337</td>\n",
              "    </tr>\n",
              "    <tr>\n",
              "      <th>min</th>\n",
              "      <td>1.000000</td>\n",
              "      <td>1.000000</td>\n",
              "      <td>1990.000000</td>\n",
              "      <td>8.100000</td>\n",
              "    </tr>\n",
              "    <tr>\n",
              "      <th>25%</th>\n",
              "      <td>76.000000</td>\n",
              "      <td>3.000000</td>\n",
              "      <td>1997.000000</td>\n",
              "      <td>24.000000</td>\n",
              "    </tr>\n",
              "    <tr>\n",
              "      <th>50%</th>\n",
              "      <td>151.000000</td>\n",
              "      <td>5.000000</td>\n",
              "      <td>2005.000000</td>\n",
              "      <td>39.000000</td>\n",
              "    </tr>\n",
              "    <tr>\n",
              "      <th>75%</th>\n",
              "      <td>226.000000</td>\n",
              "      <td>8.000000</td>\n",
              "      <td>2013.000000</td>\n",
              "      <td>59.400000</td>\n",
              "    </tr>\n",
              "    <tr>\n",
              "      <th>max</th>\n",
              "      <td>301.000000</td>\n",
              "      <td>10.000000</td>\n",
              "      <td>2020.000000</td>\n",
              "      <td>300.000000</td>\n",
              "    </tr>\n",
              "  </tbody>\n",
              "</table>\n",
              "</div>"
            ],
            "text/plain": [
              "             S.NO  Current Rank         Year  earnings ($ million)\n",
              "count  301.000000    301.000000   301.000000            301.000000\n",
              "mean   151.000000      5.448505  2005.122924             45.516279\n",
              "std     87.035433      2.850995     9.063563             33.525337\n",
              "min      1.000000      1.000000  1990.000000              8.100000\n",
              "25%     76.000000      3.000000  1997.000000             24.000000\n",
              "50%    151.000000      5.000000  2005.000000             39.000000\n",
              "75%    226.000000      8.000000  2013.000000             59.400000\n",
              "max    301.000000     10.000000  2020.000000            300.000000"
            ]
          },
          "metadata": {},
          "execution_count": 39
        }
      ]
    },
    {
      "cell_type": "markdown",
      "metadata": {
        "id": "MzRWZwY0VjpD"
      },
      "source": [
        "here we can get min,max,mean etc...."
      ]
    },
    {
      "cell_type": "code",
      "metadata": {
        "colab": {
          "base_uri": "https://localhost:8080/"
        },
        "id": "n4TN7z7yVvzv",
        "outputId": "800eeef9-21c2-40bc-9468-c2e50cb3d93f"
      },
      "source": [
        "data.dtypes"
      ],
      "execution_count": null,
      "outputs": [
        {
          "output_type": "execute_result",
          "data": {
            "text/plain": [
              "S.NO                      int64\n",
              "Name                     object\n",
              "Nationality              object\n",
              "Current Rank              int64\n",
              "Previous Year Rank       object\n",
              "Sport                    object\n",
              "Year                      int64\n",
              "earnings ($ million)    float64\n",
              "dtype: object"
            ]
          },
          "metadata": {},
          "execution_count": 40
        }
      ]
    },
    {
      "cell_type": "markdown",
      "metadata": {
        "id": "m76GXPxWV0dJ"
      },
      "source": [
        "We can get data types of our columns"
      ]
    },
    {
      "cell_type": "code",
      "metadata": {
        "colab": {
          "base_uri": "https://localhost:8080/"
        },
        "id": "ewZ0eRDGV4uZ",
        "outputId": "6c6c4401-bd95-4543-af30-f4799177a202"
      },
      "source": [
        "data.isna().sum()"
      ],
      "execution_count": null,
      "outputs": [
        {
          "output_type": "execute_result",
          "data": {
            "text/plain": [
              "S.NO                     0\n",
              "Name                     0\n",
              "Nationality              0\n",
              "Current Rank             0\n",
              "Previous Year Rank      24\n",
              "Sport                    0\n",
              "Year                     0\n",
              "earnings ($ million)     0\n",
              "dtype: int64"
            ]
          },
          "metadata": {},
          "execution_count": 41
        }
      ]
    },
    {
      "cell_type": "markdown",
      "metadata": {
        "id": "zRmdF04iWFCC"
      },
      "source": [
        "So in our data the only previous year rank has null values"
      ]
    },
    {
      "cell_type": "code",
      "metadata": {
        "colab": {
          "base_uri": "https://localhost:8080/"
        },
        "id": "S6ViJy5oWLWZ",
        "outputId": "dad6755c-ea69-46c3-f607-77d465731be0"
      },
      "source": [
        "data['Sport'].unique()"
      ],
      "execution_count": null,
      "outputs": [
        {
          "output_type": "execute_result",
          "data": {
            "text/plain": [
              "array(['boxing', 'auto racing', 'golf', 'basketball', 'Basketball',\n",
              "       'Boxing', 'Auto Racing', 'Golf', 'Tennis', 'NFL', 'Auto racing',\n",
              "       'NBA', 'Baseball', 'Ice Hockey', 'American Football / Baseball',\n",
              "       'tennis', 'ice hockey', 'F1 Motorsports', 'NASCAR', 'Hockey',\n",
              "       'Auto Racing (Nascar)', 'F1 racing', 'American Football', 'soccer',\n",
              "       'baseball', 'cycling', 'motorcycle gp', 'Soccer', 'MMA'],\n",
              "      dtype=object)"
            ]
          },
          "metadata": {},
          "execution_count": 42
        }
      ]
    },
    {
      "cell_type": "markdown",
      "metadata": {
        "id": "qQsXJx-5WZ0H"
      },
      "source": [
        "Shows the unique values in sport column"
      ]
    },
    {
      "cell_type": "code",
      "metadata": {
        "colab": {
          "base_uri": "https://localhost:8080/"
        },
        "id": "fqbQGpDuWft3",
        "outputId": "5126fe35-0f00-400d-c223-e3bcb1a763f0"
      },
      "source": [
        "data['Current Rank'].count()"
      ],
      "execution_count": null,
      "outputs": [
        {
          "output_type": "execute_result",
          "data": {
            "text/plain": [
              "301"
            ]
          },
          "metadata": {},
          "execution_count": 43
        }
      ]
    },
    {
      "cell_type": "markdown",
      "metadata": {
        "id": "sm-_i6X6Wni0"
      },
      "source": [
        "We can count values in current column"
      ]
    },
    {
      "cell_type": "markdown",
      "metadata": {
        "id": "5izzx_n5W09S"
      },
      "source": [
        "#Now let's clean our data"
      ]
    },
    {
      "cell_type": "code",
      "metadata": {
        "id": "knTKJwzDYwWj"
      },
      "source": [
        "data=data.drop(['Previous Year Rank'],axis=1)"
      ],
      "execution_count": null,
      "outputs": []
    },
    {
      "cell_type": "code",
      "metadata": {
        "colab": {
          "base_uri": "https://localhost:8080/",
          "height": 203
        },
        "id": "56A_0dTXY3up",
        "outputId": "a04491a3-3596-465d-f4c0-5ba8045bb0ca"
      },
      "source": [
        "data.head()"
      ],
      "execution_count": null,
      "outputs": [
        {
          "output_type": "execute_result",
          "data": {
            "text/html": [
              "<div>\n",
              "<style scoped>\n",
              "    .dataframe tbody tr th:only-of-type {\n",
              "        vertical-align: middle;\n",
              "    }\n",
              "\n",
              "    .dataframe tbody tr th {\n",
              "        vertical-align: top;\n",
              "    }\n",
              "\n",
              "    .dataframe thead th {\n",
              "        text-align: right;\n",
              "    }\n",
              "</style>\n",
              "<table border=\"1\" class=\"dataframe\">\n",
              "  <thead>\n",
              "    <tr style=\"text-align: right;\">\n",
              "      <th></th>\n",
              "      <th>S.NO</th>\n",
              "      <th>Name</th>\n",
              "      <th>Nationality</th>\n",
              "      <th>Current Rank</th>\n",
              "      <th>Sport</th>\n",
              "      <th>Year</th>\n",
              "      <th>earnings ($ million)</th>\n",
              "    </tr>\n",
              "  </thead>\n",
              "  <tbody>\n",
              "    <tr>\n",
              "      <th>0</th>\n",
              "      <td>1</td>\n",
              "      <td>Mike Tyson</td>\n",
              "      <td>USA</td>\n",
              "      <td>1</td>\n",
              "      <td>boxing</td>\n",
              "      <td>1990</td>\n",
              "      <td>28.6</td>\n",
              "    </tr>\n",
              "    <tr>\n",
              "      <th>1</th>\n",
              "      <td>2</td>\n",
              "      <td>Buster Douglas</td>\n",
              "      <td>USA</td>\n",
              "      <td>2</td>\n",
              "      <td>boxing</td>\n",
              "      <td>1990</td>\n",
              "      <td>26.0</td>\n",
              "    </tr>\n",
              "    <tr>\n",
              "      <th>2</th>\n",
              "      <td>3</td>\n",
              "      <td>Sugar Ray Leonard</td>\n",
              "      <td>USA</td>\n",
              "      <td>3</td>\n",
              "      <td>boxing</td>\n",
              "      <td>1990</td>\n",
              "      <td>13.0</td>\n",
              "    </tr>\n",
              "    <tr>\n",
              "      <th>3</th>\n",
              "      <td>4</td>\n",
              "      <td>Ayrton Senna</td>\n",
              "      <td>Brazil</td>\n",
              "      <td>4</td>\n",
              "      <td>auto racing</td>\n",
              "      <td>1990</td>\n",
              "      <td>10.0</td>\n",
              "    </tr>\n",
              "    <tr>\n",
              "      <th>4</th>\n",
              "      <td>5</td>\n",
              "      <td>Alain Prost</td>\n",
              "      <td>France</td>\n",
              "      <td>5</td>\n",
              "      <td>auto racing</td>\n",
              "      <td>1990</td>\n",
              "      <td>9.0</td>\n",
              "    </tr>\n",
              "  </tbody>\n",
              "</table>\n",
              "</div>"
            ],
            "text/plain": [
              "   S.NO               Name Nationality  ...        Sport  Year  earnings ($ million)\n",
              "0     1         Mike Tyson         USA  ...       boxing  1990                  28.6\n",
              "1     2     Buster Douglas         USA  ...       boxing  1990                  26.0\n",
              "2     3  Sugar Ray Leonard         USA  ...       boxing  1990                  13.0\n",
              "3     4       Ayrton Senna      Brazil  ...  auto racing  1990                  10.0\n",
              "4     5        Alain Prost      France  ...  auto racing  1990                   9.0\n",
              "\n",
              "[5 rows x 7 columns]"
            ]
          },
          "metadata": {},
          "execution_count": 45
        }
      ]
    },
    {
      "cell_type": "markdown",
      "metadata": {
        "id": "OquiIKazY6Cv"
      },
      "source": [
        "Yes our data is cleaned"
      ]
    },
    {
      "cell_type": "markdown",
      "metadata": {
        "id": "R1LLNLsKZTRV"
      },
      "source": [
        "#Now let's do relationship analysis"
      ]
    },
    {
      "cell_type": "code",
      "metadata": {
        "colab": {
          "base_uri": "https://localhost:8080/",
          "height": 281
        },
        "id": "py4nFDChfFoZ",
        "outputId": "b24d9dff-3fa9-44c6-c0a0-8165e1f13a0f"
      },
      "source": [
        "plt.scatter(data['Name'],data['earnings ($ million)'],c='red')\n",
        "plt.title('palyer v/s their earnings')\n",
        "plt.show()"
      ],
      "execution_count": null,
      "outputs": [
        {
          "output_type": "display_data",
          "data": {
            "image/png": "[encoded data removed]",
            "text/plain": [
              "<Figure size 432x288 with 1 Axes>"
            ]
          },
          "metadata": {
            "needs_background": "light"
          }
        }
      ]
    },
    {
      "cell_type": "markdown",
      "metadata": {
        "id": "XPGvRhapfnB2"
      },
      "source": [
        "The graph shows player and his earnings "
      ]
    },
    {
      "cell_type": "code",
      "metadata": {
        "colab": {
          "base_uri": "https://localhost:8080/",
          "height": 281
        },
        "id": "-G4PUGwlf3yN",
        "outputId": "f8bbac03-8b7c-414b-83a2-312bc8e01733"
      },
      "source": [
        "plt.hist(data['earnings ($ million)'],color='blue')\n",
        "plt.title(\"Earnings\")\n",
        "plt.show()"
      ],
      "execution_count": null,
      "outputs": [
        {
          "output_type": "display_data",
          "data": {
            "image/png": "[encoded data removed]",
            "text/plain": [
              "<Figure size 432x288 with 1 Axes>"
            ]
          },
          "metadata": {
            "needs_background": "light"
          }
        }
      ]
    },
    {
      "cell_type": "markdown",
      "metadata": {
        "id": "q22fxIFLg6SX"
      },
      "source": [
        "The graph shows relationship between earnings"
      ]
    },
    {
      "cell_type": "markdown",
      "metadata": {
        "id": "U2Q43qFVhJC-"
      },
      "source": [
        "Conclusion, We have taken data belongs to forbes highest paid athelets . The data provides different countries , name of the person and their earnings we have also removed some useless data like Previous Year Rank And drawn some graphs on earnings and name of the person  "
      ]
    }
  ]
}